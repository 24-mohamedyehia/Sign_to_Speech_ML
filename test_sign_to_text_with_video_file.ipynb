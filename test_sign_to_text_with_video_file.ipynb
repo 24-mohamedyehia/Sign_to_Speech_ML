{
 "cells": [
  {
   "cell_type": "code",
   "execution_count": 1,
   "id": "9900a55a",
   "metadata": {},
   "outputs": [],
   "source": [
    "import pickle\n",
    "import cv2\n",
    "import mediapipe as mp\n",
    "import numpy as np\n",
    "import json\n",
    "import os"
   ]
  },
  {
   "cell_type": "code",
   "execution_count": 3,
   "id": "8b25b63b",
   "metadata": {},
   "outputs": [],
   "source": [
    "# Load pre-trained model\n",
    "model_dict = pickle.load(open('./model.p', 'rb'))\n",
    "model = model_dict['model']\n",
    "\n",
    "# Initialize mediapipe\n",
    "mp_hands = mp.solutions.hands\n",
    "\n",
    "def read_dict(file_path):\n",
    "    path = os.path.expanduser(file_path)\n",
    "    with open(path, \"r\") as f:\n",
    "        dict_json = json.load(f)\n",
    "    return dict_json\n",
    "\n",
    "hands = mp_hands.Hands(\n",
    "    static_image_mode=False,\n",
    "    min_detection_confidence=0.3,\n",
    "    max_num_hands=2,\n",
    ")\n",
    "\n",
    "sign_path = './sign_to_prediction_index_map.json'\n",
    "sign_mapping = read_dict(sign_path)\n",
    "sign_mapping = {int(key): value for key, value in sign_mapping.items()}"
   ]
  },
  {
   "cell_type": "code",
   "execution_count": 8,
   "id": "79d4e0d9",
   "metadata": {},
   "outputs": [],
   "source": [
    "def translate_from_sign_to_text(video_path: str):\n",
    "\n",
    "    cap = cv2.VideoCapture(video_path)\n",
    "    predictions = []\n",
    "\n",
    "    while cap.isOpened():\n",
    "        ret, frame = cap.read()\n",
    "        if not ret:\n",
    "            break \n",
    "\n",
    "        H, W, _ = frame.shape\n",
    "        frame_rgb = cv2.cvtColor(frame, cv2.COLOR_BGR2RGB)\n",
    "        results = hands.process(frame_rgb)\n",
    "\n",
    "        if results.multi_hand_landmarks:\n",
    "            for hand_landmarks in results.multi_hand_landmarks:\n",
    "                x_ = []\n",
    "                y_ = []\n",
    "                data_aux = []\n",
    "\n",
    "                for i in range(len(hand_landmarks.landmark)):\n",
    "                    x = hand_landmarks.landmark[i].x\n",
    "                    y = hand_landmarks.landmark[i].y\n",
    "                    x_.append(x)\n",
    "                    y_.append(y)\n",
    "\n",
    "                for i in range(len(hand_landmarks.landmark)):\n",
    "                    x = hand_landmarks.landmark[i].x\n",
    "                    y = hand_landmarks.landmark[i].y\n",
    "                    data_aux.append(x - min(x_))\n",
    "                    data_aux.append(y - min(y_))\n",
    "\n",
    "                prediction = model.predict([np.asarray(data_aux)])\n",
    "                predicted_character = sign_mapping[int(prediction[0])]\n",
    "                predictions.append(predicted_character)\n",
    "\n",
    "    cap.release()\n",
    "\n",
    "    cleaned_predictions = []\n",
    "    for p in predictions:\n",
    "        if not cleaned_predictions or cleaned_predictions[-1] != p:\n",
    "            cleaned_predictions.append(p)\n",
    "\n",
    "    return \" \".join(cleaned_predictions)\n"
   ]
  },
  {
   "cell_type": "code",
   "execution_count": 9,
   "id": "29157eeb",
   "metadata": {},
   "outputs": [
    {
     "name": "stdout",
     "output_type": "stream",
     "text": [
      "Hello thanks Hello\n"
     ]
    }
   ],
   "source": [
    "text = translate_from_sign_to_text(\"./hello.mp4\")  # Example video file path\n",
    "print(text)"
   ]
  }
 ],
 "metadata": {
  "kernelspec": {
   "display_name": "sign_language",
   "language": "python",
   "name": "python3"
  },
  "language_info": {
   "codemirror_mode": {
    "name": "ipython",
    "version": 3
   },
   "file_extension": ".py",
   "mimetype": "text/x-python",
   "name": "python",
   "nbconvert_exporter": "python",
   "pygments_lexer": "ipython3",
   "version": "3.11.13"
  }
 },
 "nbformat": 4,
 "nbformat_minor": 5
}
