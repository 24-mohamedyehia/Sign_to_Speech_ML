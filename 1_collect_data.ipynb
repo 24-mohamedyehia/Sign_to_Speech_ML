{
 "cells": [
  {
   "cell_type": "markdown",
   "metadata": {},
   "source": [
    "# [1] import library "
   ]
  },
  {
   "cell_type": "code",
   "execution_count": 1,
   "metadata": {},
   "outputs": [],
   "source": [
    "# import \n",
    "import os  # Import the os module to create directories.\n",
    "import cv2  # Import the cv2 module to capture images from the webcam.\n",
    "from time import sleep # Import sleep function from time module to delay between frams"
   ]
  },
  {
   "cell_type": "markdown",
   "metadata": {},
   "source": [
    "# [2] Define data directory"
   ]
  },
  {
   "cell_type": "code",
   "execution_count": 2,
   "metadata": {},
   "outputs": [],
   "source": [
    "# Define the data directory.\n",
    "DATA_FRAME = './data_frame/'\n",
    "\n",
    "# Check if the data directory exists. If not, create it.\n",
    "if not os.path.exists(DATA_FRAME): os.makedirs(DATA_FRAME)\n",
    "dict_signs = dict()\n",
    "\n",
    "num_class = len(os.listdir(DATA_FRAME))\n",
    "data_size = 60  # number of frames"
   ]
  },
  {
   "cell_type": "markdown",
   "metadata": {},
   "source": [
    "# [3] capture frames and signs"
   ]
  },
  {
   "cell_type": "code",
   "execution_count": 3,
   "metadata": {},
   "outputs": [],
   "source": [
    "# Initialize the webcam.\n",
    "cap = cv2.VideoCapture(0)\n",
    "\n",
    "# Iterate over all the classes.\n",
    "while cap.isOpened():\n",
    "    # Wait for the user to press \"N\" to start collecting data.\n",
    "    ret, frame = cap.read()\n",
    "    if not ret:\n",
    "        print(\"Ignoring empty camera frame.\")\n",
    "        continue   # If loading a video, use 'break' instead of 'continue'.\n",
    "    while True:\n",
    "        ret, frame = cap.read()\n",
    "        frame = cv2.flip(frame, 1)\n",
    "        cv2.putText(frame, 'To take frames (N):', (30, 50), cv2.FONT_HERSHEY_SIMPLEX, 1, (242, 218, 7), 2,cv2.LINE_AA)\n",
    "        cv2.putText(frame, 'To Enter sign (E)', (30, 150), cv2.FONT_HERSHEY_SIMPLEX, 1,(242, 218, 7), 2,cv2.LINE_AA)\n",
    "        cv2.putText(frame, 'To Exit press (Q)', (30, 100), cv2.FONT_HERSHEY_SIMPLEX, 1,(242, 218, 7), 2,cv2.LINE_AA)\n",
    "        cv2.imshow('window', frame)\n",
    "\n",
    "        key = cv2.waitKey(1)  # define waitkey for all options\n",
    "\n",
    "        if key == ord('q'):\n",
    "            cap.release()  # Release the webcam\n",
    "            cv2.destroyAllWindows()  # Close all the windows.\n",
    "            break\n",
    "        \n",
    "        elif key == ord('e'): \n",
    "            sign_name = input(\"Enter class name: \")\n",
    "            dict_signs.update({f\"{num_class}\" : f\"{sign_name}\"})\n",
    "            break\n",
    "\n",
    "        elif key == ord('n'): \n",
    "            os.makedirs(os.path.join(DATA_FRAME, str(num_class)))  # creat folder of class\n",
    "            # Iterate over the dataset size and collect images.\n",
    "            cv2.waitKey(2000)\n",
    "            counter = 0\n",
    "            while counter < data_size:\n",
    "                ret, frame = cap.read()\n",
    "                frame = cv2.flip(frame, 1)\n",
    "                cv2.imshow(\"window\",frame )\n",
    "                cv2.waitKey(1)\n",
    "                cv2.imwrite(os.path.join(DATA_FRAME, str(num_class), '{}.jpg'.format(counter)), frame)\n",
    "                counter += 1\n",
    "                sleep(0.1)\n",
    "            num_class += 1\n",
    "\n",
    "\n"
   ]
  },
  {
   "cell_type": "markdown",
   "metadata": {},
   "source": [
    "## # Create a dictionary to sign_to_prediction_index_map.json"
   ]
  },
  {
   "cell_type": "code",
   "execution_count": 6,
   "metadata": {},
   "outputs": [],
   "source": [
    "import json\n",
    "\n",
    "# Define the file path\n",
    "json_file = \"sign_to_prediction_index_map.json\"\n",
    "\n",
    "if os.path.exists(json_file):\n",
    "    # Read the existing JSON data from the file\n",
    "    with open(json_file, \"r\") as f:\n",
    "        existing_data = json.load(f)\n",
    "\n",
    "    # Update the existing dictionary with the new data\n",
    "    existing_data.update(dict_signs)\n",
    "\n",
    "    # Write the updated dictionary back to the JSON file\n",
    "    with open(json_file, \"w\") as f:\n",
    "        json.dump(existing_data, f)\n",
    "else:\n",
    "    # Open a file in write mode and save the dictionary as JSON\n",
    "    with open(json_file, \"w\") as f:\n",
    "        json.dump(dict_signs, f)\n"
   ]
  }
 ],
 "metadata": {
  "kernelspec": {
   "display_name": "Python 3",
   "language": "python",
   "name": "python3"
  },
  "language_info": {
   "codemirror_mode": {
    "name": "ipython",
    "version": 3
   },
   "file_extension": ".py",
   "mimetype": "text/x-python",
   "name": "python",
   "nbconvert_exporter": "python",
   "pygments_lexer": "ipython3",
   "version": "3.11.2"
  },
  "orig_nbformat": 4,
  "vscode": {
   "interpreter": {
    "hash": "2228f508b06d2a489bfca52053dde5299644dddfedb4183ec0f039b64bec4ae2"
   }
  }
 },
 "nbformat": 4,
 "nbformat_minor": 2
}
