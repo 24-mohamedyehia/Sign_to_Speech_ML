{
 "cells": [
  {
   "cell_type": "code",
   "execution_count": 17,
   "metadata": {},
   "outputs": [],
   "source": [
    "# Import the necessary modules.\n",
    "import os  # To access the data directory.\n",
    "import pickle  # To save the data.\n",
    "import mediapipe as mp  # To detect hands in images.\n",
    "import cv2  # To read and show images.\n"
   ]
  },
  {
   "cell_type": "code",
   "execution_count": 18,
   "metadata": {},
   "outputs": [],
   "source": [
    "\n",
    "# Import the MediaPipe hands library.\n",
    "mp_hands = mp.solutions.hands\n",
    "\n",
    "# Import the MediaPipe drawing utilities library.\n",
    "mp_drawing = mp.solutions.drawing_utils\n",
    "\n",
    "# Import the MediaPipe drawing styles library.\n",
    "mp_drawing_styles = mp.solutions.drawing_styles\n",
    "\n",
    "# Initialize the hands detector.\n",
    "hands = mp_hands.Hands(static_image_mode=True, min_detection_confidence=0.3)\n",
    "\n",
    "# load data \n",
    "DATA_DIR = './data_frame/'\n",
    "\n"
   ]
  },
  {
   "cell_type": "code",
   "execution_count": 19,
   "metadata": {},
   "outputs": [],
   "source": [
    "\n",
    "\n",
    "# Initialize the data and labels lists.\n",
    "data = []\n",
    "labels = []\n",
    "\n",
    "# E:\\AI_ML_DL\\projects\\Computer_Vision\\2_sing_languge\\data\\0\\82.jpg\n",
    "# Loop through each directory in the data directory\n",
    "for dir_ in os.listdir(DATA_DIR):\n",
    "    # Loop through each image in the current directory using glob.glob function\n",
    "    for img_path in os.listdir(os.path.join(DATA_DIR, dir_)):\n",
    "        # Create an empty list to store the extracted data for the current image\n",
    "        data_aux = []\n",
    "        \n",
    "        # # Create two empty lists to store the x and y coordinates of the hand landmarks\n",
    "        x_ = []\n",
    "        y_ = []\n",
    "\n",
    "        # Load the current image and convert it to RGB format\n",
    "        img = cv2.imread(os.path.join(DATA_DIR, dir_, img_path))\n",
    "        img_rgb = cv2.cvtColor(img, cv2.COLOR_BGR2RGB)\n",
    "        # Use the MediaPipe Hands object to detect hand landmarks in the current image\n",
    "        results = hands.process(img_rgb)\n",
    "\n",
    "        # If one or more hands are detected in the current image\n",
    "        if results.multi_hand_landmarks:\n",
    "            # Loop through each hand\n",
    "            for hand_landmarks in results.multi_hand_landmarks:\n",
    "                # Loop through each hand landmark and store its x and y coordinates\n",
    "                for i in range(len(hand_landmarks.landmark)):\n",
    "                    x = hand_landmarks.landmark[i].x\n",
    "                    y = hand_landmarks.landmark[i].y\n",
    "\n",
    "                    x_.append(x)\n",
    "                    y_.append(y)\n",
    "\n",
    "                # Calculate the relative x and y coordinates of each hand landmark and append them to the data_aux list\n",
    "                for i in range(len(hand_landmarks.landmark)):\n",
    "                    x = hand_landmarks.landmark[i].x\n",
    "                    y = hand_landmarks.landmark[i].y\n",
    "                    data_aux.append(x - min(x_))\n",
    "                    data_aux.append(y - min(y_))\n",
    "            # Append the data_aux list and the current directory (label) to the data and labels lists, respectively\n",
    "            data.append(data_aux)\n",
    "            labels.append(dir_)\n",
    "\n"
   ]
  },
  {
   "cell_type": "code",
   "execution_count": 20,
   "metadata": {},
   "outputs": [],
   "source": [
    "# Save the extracted data and labels as a binary file using the pickle module\n",
    "f = open('data.pickle', 'wb')\n",
    "pickle.dump({'data': data, 'labels': labels}, f)\n",
    "f.close()"
   ]
  }
 ],
 "metadata": {
  "kernelspec": {
   "display_name": "Python 3",
   "language": "python",
   "name": "python3"
  },
  "language_info": {
   "codemirror_mode": {
    "name": "ipython",
    "version": 3
   },
   "file_extension": ".py",
   "mimetype": "text/x-python",
   "name": "python",
   "nbconvert_exporter": "python",
   "pygments_lexer": "ipython3",
   "version": "3.11.2"
  },
  "orig_nbformat": 4
 },
 "nbformat": 4,
 "nbformat_minor": 2
}
