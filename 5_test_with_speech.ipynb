{
 "cells": [
  {
   "cell_type": "code",
   "execution_count": 1,
   "metadata": {},
   "outputs": [],
   "source": [
    "# Import necessary libraries\n",
    "import pickle\n",
    "import cv2\n",
    "import mediapipe as mp\n",
    "import numpy as np\n",
    "from gtts import gTTS\n",
    "import os\n",
    "import json\n"
   ]
  },
  {
   "cell_type": "code",
   "execution_count": 2,
   "metadata": {},
   "outputs": [],
   "source": [
    "\n",
    "# Load pre-trained model from file\n",
    "model_dict = pickle.load(open('./model.p', 'rb'))\n",
    "model = model_dict['model']"
   ]
  },
  {
   "cell_type": "code",
   "execution_count": 3,
   "metadata": {},
   "outputs": [],
   "source": [
    "# Initialize hand tracking and drawing utilities from mediapipe\n",
    "mp_hands = mp.solutions.hands\n",
    "mp_drawing = mp.solutions.drawing_utils\n",
    "mp_drawing_styles = mp.solutions.drawing_styles\n",
    "\n",
    "# Initialize hand tracking using mediapipe\n",
    "hands = mp_hands.Hands(static_image_mode=True,\n",
    "                        min_detection_confidence=0.3,\n",
    "                        max_num_hands=2,\n",
    "                        )"
   ]
  },
  {
   "cell_type": "code",
   "execution_count": 4,
   "metadata": {},
   "outputs": [],
   "source": [
    "\n",
    "# Function to read JSON file\n",
    "def read_dict(file_path):\n",
    "    path = os.path.expanduser(file_path)\n",
    "    with open(path, \"r\") as f:\n",
    "        dict_json = json.load(f)\n",
    "    return dict_json"
   ]
  },
  {
   "cell_type": "code",
   "execution_count": 5,
   "metadata": {},
   "outputs": [],
   "source": [
    "# Load sign mapping from JSON file\n",
    "sign_mapping = read_dict('./sign_to_prediction_index_map.json')\n",
    "sign_mapping = {int(key): value for key, value in sign_mapping.items()}"
   ]
  },
  {
   "cell_type": "code",
   "execution_count": 6,
   "metadata": {},
   "outputs": [],
   "source": [
    "import time\n",
    "\n",
    "# Initialize video capture object\n",
    "cap = cv2.VideoCapture(0)\n",
    "# Set the frame rate to 30 fps\n",
    "cap.set(cv2.CAP_PROP_FPS, 30)\n",
    "\n",
    "# Initialize variables to store previous prediction and time\n",
    "previous_prediction = None\n",
    "last_prediction_time = time.time()\n",
    "\n",
    "# Continuously capture video from default camera\n",
    "while True:\n",
    "    # Initialize empty lists to store hand landmark coordinates\n",
    "    data_aux = []\n",
    "    x_ = []\n",
    "    y_ = []\n",
    "\n",
    "    # Read a frame from the camera\n",
    "    ret, frame = cap.read()\n",
    "    # Flip the frame horizontally\n",
    "    frame = cv2.flip(frame, 1)\n",
    "\n",
    "    # Get the dimensions of the frame\n",
    "    H, W, _ = frame.shape\n",
    "\n",
    "    # Convert the frame to RGB color space\n",
    "    frame_rgb = cv2.cvtColor(frame, cv2.COLOR_BGR2RGB)\n",
    "\n",
    "    # Detect hand landmarks using mediapipe\n",
    "    results = hands.process(frame_rgb)\n",
    "    \n",
    "    # If hand landmarks are detected\n",
    "    if results.multi_hand_landmarks:\n",
    "        # Get the coordinates of each hand landmark\n",
    "        for hand_landmarks in results.multi_hand_landmarks:\n",
    "            for i in range(len(hand_landmarks.landmark)):\n",
    "                x = hand_landmarks.landmark[i].x\n",
    "                y = hand_landmarks.landmark[i].y\n",
    "\n",
    "                # Append the coordinates to the respective lists\n",
    "                x_.append(x)\n",
    "                y_.append(y)\n",
    "            \n",
    "            # Calculate the normalized coordinates of each landmark\n",
    "            for i in range(len(hand_landmarks.landmark)):\n",
    "                x = hand_landmarks.landmark[i].x\n",
    "                y = hand_landmarks.landmark[i].y\n",
    "                data_aux.append(x - min(x_))\n",
    "                data_aux.append(y - min(y_))\n",
    "\n",
    "        # Calculate the minimum and maximum values of the coordinates\n",
    "        x1 = int(min(x_) * W) - 10\n",
    "        y1 = int(min(y_) * H) - 10\n",
    "\n",
    "        x2 = int(max(x_) * W) - 10\n",
    "        y2 = int(max(y_) * H) - 10\n",
    "\n",
    "        # Predict the character label using the pre-trained model\n",
    "        prediction = model.predict([np.asarray(data_aux)])\n",
    "        predicted_character = sign_mapping[int(prediction[0])]\n",
    "\n",
    "        # If the prediction changes and it has been at least 3 seconds since the last prediction\n",
    "        if predicted_character != previous_prediction and time.time() - last_prediction_time >= 3:\n",
    "            # Convert predicted text to speech\n",
    "            tts = gTTS(predicted_character, lang='en')\n",
    "            tts.save('predicted_audio.mp3')\n",
    "            os.system('start predicted_audio.mp3')  # Play the audio file\n",
    "            previous_prediction = predicted_character\n",
    "            last_prediction_time = time.time()\n",
    "\n",
    "    # Display the processed frame\n",
    "    cv2.imshow('frame', frame)\n",
    "    if cv2.waitKey(1) & 0xFF == ord('q'): #if u pressed q close the window and break      \n",
    "        break \n",
    "\n",
    "# Release the video capture object and close all windows\n",
    "cap.release()\n",
    "cv2.destroyAllWindows()\n"
   ]
  }
 ],
 "metadata": {
  "kernelspec": {
   "display_name": "Python 3",
   "language": "python",
   "name": "python3"
  },
  "language_info": {
   "codemirror_mode": {
    "name": "ipython",
    "version": 3
   },
   "file_extension": ".py",
   "mimetype": "text/x-python",
   "name": "python",
   "nbconvert_exporter": "python",
   "pygments_lexer": "ipython3",
   "version": "3.11.2"
  }
 },
 "nbformat": 4,
 "nbformat_minor": 2
}
