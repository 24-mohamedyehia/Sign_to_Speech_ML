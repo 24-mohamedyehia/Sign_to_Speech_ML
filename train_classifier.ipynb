{
 "cells": [
  {
   "cell_type": "code",
   "execution_count": 1,
   "metadata": {},
   "outputs": [],
   "source": [
    "import pickle   # Import the pickle library to save and load Python objects to and from files\n",
    "from sklearn.ensemble import RandomForestClassifier   # Import the RandomForestClassifier class from the Scikit-learn library for classification\n",
    "from sklearn.model_selection import train_test_split   # Import the train_test_split function to split data into training and testing sets\n",
    "from sklearn.metrics import accuracy_score   # Import the accuracy_score function to calculate the accuracy of a classification model\n",
    "import numpy as np   # Import the numpy library for numerical computing in Python"
   ]
  },
  {
   "cell_type": "code",
   "execution_count": 2,
   "metadata": {},
   "outputs": [],
   "source": [
    "# Load the data and labels from the pickled Python object in the file './data.pickle'\n",
    "data_dict = pickle.load(open('./data.pickle', 'rb'))\n",
    "\n",
    "# Convert the data and labels to numpy arrays\n",
    "data = np.asarray(data_dict['data'])\n",
    "labels = np.asarray(data_dict['labels'])\n"
   ]
  },
  {
   "cell_type": "code",
   "execution_count": 3,
   "metadata": {},
   "outputs": [
    {
     "data": {
      "text/plain": [
       "(420, 42)"
      ]
     },
     "execution_count": 3,
     "metadata": {},
     "output_type": "execute_result"
    }
   ],
   "source": [
    "data.shape"
   ]
  },
  {
   "cell_type": "code",
   "execution_count": 4,
   "metadata": {},
   "outputs": [
    {
     "data": {
      "text/plain": [
       "(420,)"
      ]
     },
     "execution_count": 4,
     "metadata": {},
     "output_type": "execute_result"
    }
   ],
   "source": [
    "labels.shape"
   ]
  },
  {
   "cell_type": "code",
   "execution_count": 5,
   "metadata": {},
   "outputs": [],
   "source": [
    "# Split the data and labels into training and testing sets\n",
    "x_train, x_test, y_train, y_test = train_test_split(data, labels, test_size=0.2, shuffle=True, stratify=labels)"
   ]
  },
  {
   "cell_type": "code",
   "execution_count": 6,
   "metadata": {},
   "outputs": [
    {
     "data": {
      "text/plain": [
       "(336, 42)"
      ]
     },
     "execution_count": 6,
     "metadata": {},
     "output_type": "execute_result"
    }
   ],
   "source": [
    "x_train.shape\n",
    "# x_test.shape\n",
    "\n",
    "# y_train.shape\n",
    "# y_test.shape"
   ]
  },
  {
   "cell_type": "code",
   "execution_count": 7,
   "metadata": {},
   "outputs": [
    {
     "name": "stdout",
     "output_type": "stream",
     "text": [
      "100.0% of samples were classified correctly !\n"
     ]
    }
   ],
   "source": [
    "\n",
    "\n",
    "\n",
    "# Create a new instance of the RandomForestClassifier class\n",
    "model = RandomForestClassifier()\n",
    "\n",
    "\n",
    "# Train the machine learning model on the training data and labels\n",
    "model.fit(x_train, y_train)\n",
    "\n",
    "# Use the trained machine learning model to predict the labels for the testing data\n",
    "y_predict = model.predict(x_test)\n",
    "\n",
    "# Calculate the accuracy of the machine learning model by comparing its predicted labels to the true labels for the testing data\n",
    "score = accuracy_score(y_predict, y_test)\n",
    "\n",
    "# Print the accuracy of the machine learning model as a percentage\n",
    "print('{}% of samples were classified correctly !'.format(score * 100))\n",
    "\n",
    "# Save the trained machine learning model to a file called 'model.p' using the pickle library\n",
    "f = open('model.p', 'wb')\n",
    "pickle.dump({'model': model}, f)\n",
    "f.close()"
   ]
  }
 ],
 "metadata": {
  "kernelspec": {
   "display_name": "Python 3",
   "language": "python",
   "name": "python3"
  },
  "language_info": {
   "codemirror_mode": {
    "name": "ipython",
    "version": 3
   },
   "file_extension": ".py",
   "mimetype": "text/x-python",
   "name": "python",
   "nbconvert_exporter": "python",
   "pygments_lexer": "ipython3",
   "version": "3.11.2"
  },
  "orig_nbformat": 4
 },
 "nbformat": 4,
 "nbformat_minor": 2
}
